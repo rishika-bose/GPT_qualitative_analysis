{
 "cells": [
  {
   "cell_type": "markdown",
   "id": "e89413ac-cf20-4854-8448-6d0dca996f24",
   "metadata": {},
   "source": [
    "# Qualitative Analysis with GPT"
   ]
  },
  {
   "cell_type": "code",
   "execution_count": 1,
   "id": "65fbce02-f51b-4b7f-b9bc-2547201109f0",
   "metadata": {},
   "outputs": [],
   "source": [
    "import openai\n",
    "import pandas as pd\n",
    "import sklearn\n",
    "import numpy as np"
   ]
  },
  {
   "cell_type": "code",
   "execution_count": 2,
   "id": "c8b864d4-748a-4202-a691-1f470f011c94",
   "metadata": {
    "tags": []
   },
   "outputs": [
    {
     "name": "stdout",
     "output_type": "stream",
     "text": [
      "Total number of comments: 2776\n"
     ]
    }
   ],
   "source": [
    "#openai.api_key = open(\"../org_openai_key.txt\").read()\n",
    "openai.api_key = open(\"../openai_key.txt\").read()\n",
    "all_dat = pd.read_csv(\"../data/data_preprocessed.csv\")\n",
    "print(\"Total number of comments:\", len(all_dat[\"Comment\"]))"
   ]
  },
  {
   "cell_type": "code",
   "execution_count": 6,
   "id": "7ba1a6f3-1718-4410-b13b-392a249a5275",
   "metadata": {
    "tags": []
   },
   "outputs": [],
   "source": [
    "#Subsets of data for testing\n",
    "dat_10 = all_dat.iloc[0:10]\n",
    "dat_30 = all_dat.iloc[0:30]\n",
    "dat_100 = all_dat.iloc[0:100]"
   ]
  },
  {
   "cell_type": "code",
   "execution_count": 40,
   "id": "f9fa00ef-b069-4667-81cc-def37f813e50",
   "metadata": {
    "tags": []
   },
   "outputs": [],
   "source": [
    "#Read the different pieces of text that can be used to prompt the model\n",
    "role_prompt = open(\"./prompts/role_prompt.txt\").read()\n",
    "simple_context_prompt = open(\"./prompts/simple_context_prompt.txt\").read()\n",
    "detailed_context_prompt = open(\"./prompts/detailed_context_prompt.txt\").read()\n",
    "example_short = open(\"./prompts/example_code_numbers.txt\").read()\n",
    "example_long = open(\"./prompts/example_correct-codes_descriptions.txt\").read()\n",
    "story_prompt = open(\"./prompts/story_prompt.txt\").read()"
   ]
  },
  {
   "cell_type": "code",
   "execution_count": 32,
   "id": "b50da6f9-09a8-4b4f-bcfe-af8a00ba4c4a",
   "metadata": {
    "tags": []
   },
   "outputs": [],
   "source": [
    "# Function which takes a prompt (which will be a combination of those above), a comment, and max tokens for response\n",
    "# Returns the model's completion text\n",
    "# consider: make the engine a param as well?\n",
    "# consider: change to 'Top codes:' instead of 'Codes:' to encourage considering multiple\n",
    "def code_this(prompt_list, comment, max_tokens):\n",
    "    prompt = prompt_list+\"Comment:\"+comment+\"Codes:\"\n",
    "    response = openai.Completion.create(\n",
    "        engine=\"text-ada-001\", #change\n",
    "        prompt=prompt,\n",
    "        max_tokens=max_tokens \n",
    "    )\n",
    "    return response[\"choices\"][0].text"
   ]
  },
  {
   "cell_type": "markdown",
   "id": "b4dc07ee-a7f3-4fd1-9f79-40eaa2bfbf47",
   "metadata": {},
   "source": [
    "Trying out prompting method with 10 comments:"
   ]
  },
  {
   "cell_type": "code",
   "execution_count": 20,
   "id": "bd782d96-0a4b-4802-9220-cf359fae97ff",
   "metadata": {
    "tags": []
   },
   "outputs": [],
   "source": [
    "#edit to include max_tokens\n",
    "\n",
    "#prompt_list_1 = simple_context_prompt\n",
    "#simple_context_only = {}\n",
    "#for c in dat_10[\"Comment\"]:\n",
    "#    simple_context_only[c] = code_this(prompt_list_1, c)             "
   ]
  },
  {
   "cell_type": "code",
   "execution_count": 37,
   "id": "8ddd5a53-662a-45bb-aecd-bca03336d78b",
   "metadata": {
    "tags": []
   },
   "outputs": [],
   "source": [
    "#test_10 = pd.DataFrame(simple_context_only, index=[0]).transpose().head()"
   ]
  },
  {
   "cell_type": "code",
   "execution_count": 34,
   "id": "f674bf5f-3bb2-4915-a291-2aae63d06762",
   "metadata": {
    "tags": []
   },
   "outputs": [],
   "source": [
    "#test_10.to_csv(\"./outputs/testing_10maxtokens_simplecontextprompt.csv\")"
   ]
  },
  {
   "cell_type": "code",
   "execution_count": 41,
   "id": "cba97f80-49f6-4328-b9cd-2a3a9cddf47b",
   "metadata": {
    "tags": []
   },
   "outputs": [
    {
     "data": {
      "text/html": [
       "<div>\n",
       "<style scoped>\n",
       "    .dataframe tbody tr th:only-of-type {\n",
       "        vertical-align: middle;\n",
       "    }\n",
       "\n",
       "    .dataframe tbody tr th {\n",
       "        vertical-align: top;\n",
       "    }\n",
       "\n",
       "    .dataframe thead th {\n",
       "        text-align: right;\n",
       "    }\n",
       "</style>\n",
       "<table border=\"1\" class=\"dataframe\">\n",
       "  <thead>\n",
       "    <tr style=\"text-align: right;\">\n",
       "      <th></th>\n",
       "      <th>Unnamed: 0</th>\n",
       "      <th>0</th>\n",
       "    </tr>\n",
       "  </thead>\n",
       "  <tbody>\n",
       "    <tr>\n",
       "      <th>0</th>\n",
       "      <td>He is already sociable he doesn't need the pill.</td>\n",
       "      <td>\\n30\\tHe is already sociable he doesn</td>\n",
       "    </tr>\n",
       "    <tr>\n",
       "      <th>1</th>\n",
       "      <td>John didn't have a problem - he was just fine ...</td>\n",
       "      <td>\\n2 NOT COMfortable with him taking the pill</td>\n",
       "    </tr>\n",
       "    <tr>\n",
       "      <th>2</th>\n",
       "      <td>If John was quite comfortable with how social ...</td>\n",
       "      <td>1-3\\n1 \\nNot comfortable with</td>\n",
       "    </tr>\n",
       "    <tr>\n",
       "      <th>3</th>\n",
       "      <td>It seems like he's a pretty well-adjusted guy ...</td>\n",
       "      <td>\\n30\\t relieved that he's not being candy</td>\n",
       "    </tr>\n",
       "    <tr>\n",
       "      <th>4</th>\n",
       "      <td>John is healthy and is not suffering from any ...</td>\n",
       "      <td>\\n1 Not comfortable with him taking the pill -</td>\n",
       "    </tr>\n",
       "  </tbody>\n",
       "</table>\n",
       "</div>"
      ],
      "text/plain": [
       "                                          Unnamed: 0  \\\n",
       "0   He is already sociable he doesn't need the pill.   \n",
       "1  John didn't have a problem - he was just fine ...   \n",
       "2  If John was quite comfortable with how social ...   \n",
       "3  It seems like he's a pretty well-adjusted guy ...   \n",
       "4  John is healthy and is not suffering from any ...   \n",
       "\n",
       "                                                0  \n",
       "0           \\n30\\tHe is already sociable he doesn  \n",
       "1    \\n2 NOT COMfortable with him taking the pill  \n",
       "2                   1-3\\n1 \\nNot comfortable with  \n",
       "3       \\n30\\t relieved that he's not being candy  \n",
       "4  \\n1 Not comfortable with him taking the pill -  "
      ]
     },
     "execution_count": 41,
     "metadata": {},
     "output_type": "execute_result"
    }
   ],
   "source": [
    "#Commented out code above to make this re-runnable\n",
    "test_10 = pd.read_csv(\"./outputs/testing_10maxtokens_simplecontextprompt.csv\")\n",
    "test_10.head()"
   ]
  },
  {
   "cell_type": "markdown",
   "id": "836f965c-4ca6-4a4d-9ada-8f995c71d7b6",
   "metadata": {},
   "source": [
    "Looks like it's working, though max_tokens=10 is too low. The function was edited to take max_tokens as a param at this point."
   ]
  },
  {
   "cell_type": "markdown",
   "id": "01880169-6bac-4543-837d-fcebb4cc0ec1",
   "metadata": {},
   "source": [
    "Below, I will try 4 different prompt combinations with the 30-comment dataset. I will use the best performing prompt and apply it to the larger 100-comment dataset.\n",
    "\n",
    "Longer and more detailed prompts may lead to better performance, but if shorter prompts can give similar performance they may be the better choice. Looking at different combinations can also help in understanding which parts of the final prompt are contributing to the performance."
   ]
  },
  {
   "cell_type": "code",
   "execution_count": null,
   "id": "539bdb39-70bf-4f32-be06-4ea9b1759359",
   "metadata": {},
   "outputs": [],
   "source": [
    "#consider adding long/short examples as well"
   ]
  },
  {
   "cell_type": "markdown",
   "id": "82481f27-c46d-4a32-ae1c-1307c847aaa7",
   "metadata": {},
   "source": [
    "**Role prompt + simple context prompt**"
   ]
  },
  {
   "cell_type": "code",
   "execution_count": null,
   "id": "6f9f88c4-d595-44a5-8197-6ac5f9813e15",
   "metadata": {},
   "outputs": [],
   "source": [
    "prompt_list_2 = role_prompt + simple_context_prompt\n",
    "role_simple_context = {}\n",
    "for c in dat_30[\"Comment\"]:\n",
    "    role_simple_context[c] = code_this(prompt_list_2, c, 100)      \n",
    "\n",
    "role_simple_context_df = pd.DataFrame(simple_context_only, index=[0]).transpose().head()\n",
    "role_simple_context_df.to_csv(\"./outputs/role_simple_context_30.csv\")"
   ]
  },
  {
   "cell_type": "markdown",
   "id": "a01a5a8a-40ba-4502-8f0b-44a20bb43e84",
   "metadata": {},
   "source": [
    "**Role prompt + simple context prompt + example**"
   ]
  },
  {
   "cell_type": "code",
   "execution_count": null,
   "id": "2e66febb-d678-4ebe-9f71-7742dedc5037",
   "metadata": {},
   "outputs": [],
   "source": []
  },
  {
   "cell_type": "markdown",
   "id": "b4641c54-9d6c-4911-847c-26ded8927472",
   "metadata": {},
   "source": [
    "**Role prompt + detailed context prompt**"
   ]
  },
  {
   "cell_type": "code",
   "execution_count": null,
   "id": "03ef8550-90ce-4c5c-9973-fbac3fa2448b",
   "metadata": {},
   "outputs": [],
   "source": []
  },
  {
   "cell_type": "markdown",
   "id": "1f35ff20-25d2-4e6f-8a7b-87a6581e0eae",
   "metadata": {},
   "source": [
    "**Role prompt + detailed context prompt + example**"
   ]
  },
  {
   "cell_type": "code",
   "execution_count": null,
   "id": "966247da-b6cc-4e26-8ef0-c86e166b1f9c",
   "metadata": {},
   "outputs": [],
   "source": []
  },
  {
   "cell_type": "markdown",
   "id": "1c10af6d-550b-4c15-9fca-e1e8faf81d31",
   "metadata": {},
   "source": [
    "**Story prompt**"
   ]
  },
  {
   "cell_type": "code",
   "execution_count": null,
   "id": "83469e22-0417-4aae-8bab-a202309c75de",
   "metadata": {},
   "outputs": [],
   "source": []
  }
 ],
 "metadata": {
  "kernelspec": {
   "display_name": "Python 3 (ipykernel)",
   "language": "python",
   "name": "python3"
  },
  "language_info": {
   "codemirror_mode": {
    "name": "ipython",
    "version": 3
   },
   "file_extension": ".py",
   "mimetype": "text/x-python",
   "name": "python",
   "nbconvert_exporter": "python",
   "pygments_lexer": "ipython3",
   "version": "3.9.16"
  }
 },
 "nbformat": 4,
 "nbformat_minor": 5
}
