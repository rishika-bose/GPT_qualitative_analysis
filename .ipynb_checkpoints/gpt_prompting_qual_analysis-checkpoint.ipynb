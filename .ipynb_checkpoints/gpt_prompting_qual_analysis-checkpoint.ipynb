{
 "cells": [
  {
   "cell_type": "markdown",
   "id": "676e71cb-1f5c-49af-8fae-7a7091dafb61",
   "metadata": {},
   "source": [
    "# Qualitative Analysis with GPT-3 Prompting"
   ]
  },
  {
   "cell_type": "code",
   "execution_count": 7,
   "id": "f71f33c8-3774-44e7-ade5-cff573812671",
   "metadata": {},
   "outputs": [],
   "source": [
    "import openai\n",
    "import pandas as pd\n",
    "import random"
   ]
  },
  {
   "cell_type": "code",
   "execution_count": 5,
   "id": "256492d1-5bee-4174-98d4-6d5ff113f2db",
   "metadata": {
    "tags": []
   },
   "outputs": [],
   "source": [
    "openai.api_key = open(\"../openai_key.txt\").read()"
   ]
  },
  {
   "cell_type": "code",
   "execution_count": 14,
   "id": "e96aa216-debf-44bf-b51c-92ab4308ef42",
   "metadata": {
    "tags": []
   },
   "outputs": [],
   "source": [
    "all_dat = pd.read_excel(\"../data/Changestoself_Analysis_Comments_2_R_2013_12_05.xlsx\", sheet_name = \"Changestoself_Analysis_Comments\")\n",
    "comments = all_dat[\"Comment\"]\n",
    "assert comments.isna().sum() == 0, \"There are missing values in comments\""
   ]
  },
  {
   "cell_type": "markdown",
   "id": "ab8570d3-1f79-4972-8a94-fdc1d8088a0c",
   "metadata": {},
   "source": [
    "Some testing is documented here: https://docs.google.com/document/d/1Cn5fMYgOe-kHvvqPXWKy3TGuDuMMWTv1yGH4_0jAozg/edit?usp=sharing"
   ]
  },
  {
   "cell_type": "markdown",
   "id": "f1f9aa9b-bae1-47de-8f11-5f1f65601332",
   "metadata": {},
   "source": [
    "Random comments to try out prompting with extracted below:"
   ]
  },
  {
   "cell_type": "markdown",
   "id": "3f28d66b-bea0-41df-860a-31ae2861d0af",
   "metadata": {},
   "source": [
    "Testing with one comment:"
   ]
  },
  {
   "cell_type": "code",
   "execution_count": 21,
   "id": "899e7a44-96b7-4299-9e33-5efe75b83ea3",
   "metadata": {
    "tags": []
   },
   "outputs": [
    {
     "data": {
      "text/plain": [
       "'This pill would produce life-long changes to John\\'s personallity.  what would be the trade-offs?  Insomnia is bad enough but what other aspects of his life would be effected by this change?  Quite honestly, it seems the pill is trying to achieve social change that would make us all just \"get along\" and that scares me from a macro level.'"
      ]
     },
     "execution_count": 21,
     "metadata": {},
     "output_type": "execute_result"
    }
   ],
   "source": [
    "random.seed(0)\n",
    "test_comment = random.choice(comments)\n",
    "test_comment"
   ]
  },
  {
   "cell_type": "markdown",
   "id": "bf9cc57f-53a2-4451-8633-32c91959a258",
   "metadata": {},
   "source": [
    "Second test comment"
   ]
  },
  {
   "cell_type": "code",
   "execution_count": 22,
   "id": "5e2299d4-1a0f-4653-9669-0f593b68c086",
   "metadata": {
    "tags": []
   },
   "outputs": [
    {
     "data": {
      "text/plain": [
       "'It would make him seem more like a normal person and would be easier to interact with'"
      ]
     },
     "execution_count": 22,
     "metadata": {},
     "output_type": "execute_result"
    }
   ],
   "source": [
    "random.seed(1)\n",
    "test_comment2 = random.choice(comments)\n",
    "test_comment2"
   ]
  },
  {
   "cell_type": "code",
   "execution_count": 16,
   "id": "2fca8223-520d-44b0-b390-0ef81730fbfd",
   "metadata": {
    "tags": []
   },
   "outputs": [
    {
     "data": {
      "text/plain": [
       "'I don\\'t think the benefits outweigh the costs. He is already \"quite comfortable\" with his sociability, and I don\\'t think he should make long-lasting changes to his brain.'"
      ]
     },
     "execution_count": 16,
     "metadata": {},
     "output_type": "execute_result"
    }
   ],
   "source": [
    "#NOTE: for some reason there are slashes (\\) in some comments:\n",
    "comments[63]"
   ]
  }
 ],
 "metadata": {
  "kernelspec": {
   "display_name": "Python 3 (ipykernel)",
   "language": "python",
   "name": "python3"
  },
  "language_info": {
   "codemirror_mode": {
    "name": "ipython",
    "version": 3
   },
   "file_extension": ".py",
   "mimetype": "text/x-python",
   "name": "python",
   "nbconvert_exporter": "python",
   "pygments_lexer": "ipython3",
   "version": "3.9.16"
  }
 },
 "nbformat": 4,
 "nbformat_minor": 5
}
