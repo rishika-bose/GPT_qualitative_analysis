{
 "cells": [
  {
   "cell_type": "markdown",
   "id": "9a9e494a-e5f1-4536-a655-ad3dc1fc281a",
   "metadata": {},
   "source": [
    "## Evaluating GPT Prompts"
   ]
  },
  {
   "cell_type": "code",
   "execution_count": 118,
   "id": "aaf7fcaf-401c-4fe0-800b-d00961a54c23",
   "metadata": {},
   "outputs": [],
   "source": [
    "import pandas as pd\n",
    "import numpy as np\n",
    "import re\n",
    "import warnings\n",
    "import seaborn as sns\n",
    "import matplotlib as plt\n",
    "#from sklearn.metrics import plot_confusion_matrix\n"
   ]
  },
  {
   "cell_type": "markdown",
   "id": "05d30cde-60c4-4043-9554-d8f55c2c4b4a",
   "metadata": {},
   "source": [
    "Here, I will be going through the model's outputs for different combinations of prompts and trying to evaluate them against human coding and as well as each other.\n",
    "\n",
    "First, the model's responses needs to be standardised so it can be compared easily. We can look at the format of the responses for each prompt combination below:"
   ]
  },
  {
   "cell_type": "code",
   "execution_count": 2,
   "id": "1383f04c-f4db-46de-89a5-15804fbf615a",
   "metadata": {},
   "outputs": [],
   "source": [
    "role_simple_context = pd.read_excel(\"./outputs/role_simple_context_30.xlsx\")\n",
    "role_simple_context_ex = pd.read_excel(\"./outputs/role_simple_context_ex_30.xlsx\")\n",
    "role_detailed_context= pd.read_excel(\"./outputs/role_detailed_context_30.xlsx\")\n",
    "role_detailed_context_ex= pd.read_excel(\"./outputs/role_detailed_context_ex_30.xlsx\")\n",
    "story_prompt = pd.read_excel(\"./outputs/story_prompt.xlsx\")\n",
    "story_prompt_ex = pd.read_excel(\"./outputs/story_prompt_ex.xlsx\")"
   ]
  },
  {
   "cell_type": "markdown",
   "id": "bb2af197-ffbf-4e1c-9463-8a3f04f48d87",
   "metadata": {},
   "source": [
    "A look at the coding framework provided:"
   ]
  },
  {
   "cell_type": "code",
   "execution_count": 3,
   "id": "e53d428a-8b8b-4d54-b346-b8d5676ffc94",
   "metadata": {},
   "outputs": [
    {
     "name": "stdout",
     "output_type": "stream",
     "text": [
      "Code the provided texts using the provided list of codes. Your task is to match each text in the dataset to one or more codes from the provided list, based on the content of the text. Use your judgment to determine which codes are most appropriate for each text, and provide a summary of your coding results in a clear and organized manner.\n",
      "\n",
      "1\tNot comfortable with him taking the pill - no specific reason given\n",
      "2\tNot comfortable with him taking the pill - changing something fundamental\n",
      "3\tNot comfortable with him taking the pill - changing the brain\n",
      "4\tNot comfortable with him taking the pill - side effect\n",
      "5\tNot comfortable with him taking the pill - general concerns about pills\n",
      "6\tNot comfortable with him taking the pill - no need, nor medically necessary\n",
      "7\tNot comfortable with him taking the pill - naturalistic moral concerns\n",
      "8\tNot comfortable with him taking the pill - risks outweight the benefits\n",
      "9\tNot comfortable with him taking the pill - dependence, addiction\n",
      "10\tNot comfortable with him taking the pill - social pressure to fit in\n",
      "11\tNot comfortable with him taking the pill - legal or prescribed\n",
      "12\tNot comfortable with him taking the pill - god or religious concerns\n",
      "13\tNot comfortable with him taking the pill - other: fairness, social issues, character\n",
      "14\tNot comfortable with him taking the pill - status quo : new pill\n",
      "15\tNot comfortable with him taking the pill - permanent changes (brain concern?)\n",
      "16\tComfortable with him taking the pill - no specific reason\n",
      "17\tComfortable with him taking the pill - not changing anything fundamental\n",
      "18\tComfortable with him taking the pill - his choice\n",
      "19\tComfortable with him taking the pill - minor or no side effects\n",
      "20\tComfortable with him taking the pill - comfortable with pills and medication\n",
      "21\tComfortable with him taking the pill - positive benefits\n",
      "22\tComfortable with him taking the pill - nothing wrong with using science or other means to improve ourselves\n",
      "23\tComfortable with him taking the pill - benefits outweight the risks\n",
      "24\tComfortable with him taking the pill - consent/informed decision\n",
      "25\tComfortable with him taking the pill - no pressure to take it\n",
      "26\tComfortable with him taking the pill - legal or prescribed\n",
      "27\tComfortable with him taking the pill - no harm to himself or others\n",
      "28\tComfortable with him taking the pill - other specific reason\n",
      "29\tOther\n"
     ]
    }
   ],
   "source": [
    "simple_context_prompt = open(\"./prompts/simple_context_prompt.txt\").read()\n",
    "print(simple_context_prompt)"
   ]
  },
  {
   "cell_type": "markdown",
   "id": "7f41a429-4c7a-489c-a3e5-7652ae5b7dce",
   "metadata": {},
   "source": [
    "### Examining responses\n",
    "Below, we look at the format of responses to see how to best compare them."
   ]
  },
  {
   "cell_type": "code",
   "execution_count": 4,
   "id": "f808cbfc-3d92-49c2-9c46-b31f35583a33",
   "metadata": {},
   "outputs": [
    {
     "data": {
      "text/plain": [
       "0    \\n2\\tNot comfortable with him taking the pill ...\n",
       "1     2, 5, 6, 7, 10, 11, 12, 13, 15, 17, 18, 19, 2...\n",
       "2    \\n\\n2\\tNot comfortable with him taking the pil...\n",
       "3     2, 5, 6, 7, 8, 10, 13, 14, 15\\n\\nThe text pro...\n",
       "4                       2, 4, 5, 6, 10, 14, 15, 24, 28\n",
       "Name: Response, dtype: object"
      ]
     },
     "execution_count": 4,
     "metadata": {},
     "output_type": "execute_result"
    }
   ],
   "source": [
    "role_simple_context[\"Response\"].head()"
   ]
  },
  {
   "cell_type": "code",
   "execution_count": 5,
   "id": "b805f136-f86e-4303-a486-7d01072d2f29",
   "metadata": {},
   "outputs": [
    {
     "data": {
      "text/plain": [
       "0     6\\tNot comfortable with him taking the pill -...\n",
       "1     6\\tNot comfortable with him taking the pill -...\n",
       "2     6\\tNot comfortable with him taking the pill -...\n",
       "3     6\\tNot comfortable with him taking the pill -...\n",
       "4     4\\tNot comfortable with him taking the pill -...\n",
       "Name: Response, dtype: object"
      ]
     },
     "execution_count": 5,
     "metadata": {},
     "output_type": "execute_result"
    }
   ],
   "source": [
    "role_simple_context_ex[\"Response\"].head()"
   ]
  },
  {
   "cell_type": "code",
   "execution_count": 6,
   "id": "2215e553-e6a0-40b3-8d60-541f02ea26f7",
   "metadata": {},
   "outputs": [
    {
     "data": {
      "text/plain": [
       "0                                              6, 7, 8\n",
       "1     6 Not comfortable with him taking the pill - ...\n",
       "2     6 Not comfortable with him taking the pill - ...\n",
       "3     2 Not comfortable with him taking the pill - ...\n",
       "4     2 Not comfortable with him taking the pill - ...\n",
       "Name: Response, dtype: object"
      ]
     },
     "execution_count": 6,
     "metadata": {},
     "output_type": "execute_result"
    }
   ],
   "source": [
    "role_detailed_context[\"Response\"].head()"
   ]
  },
  {
   "cell_type": "code",
   "execution_count": 7,
   "id": "d0c05cfa-4d6d-4b01-bf44-1d23b8e5c521",
   "metadata": {},
   "outputs": [
    {
     "data": {
      "text/plain": [
       "0     6\\tNot comfortable with him taking the pill â...\n",
       "1     6\\tNot comfortable with him taking the pill â...\n",
       "2     6\\tNot comfortable with him taking the pill â...\n",
       "3     6\\tNot comfortable with him taking the pill â...\n",
       "4     4\\tNot comfortable with him taking the pill -...\n",
       "Name: Response, dtype: object"
      ]
     },
     "execution_count": 7,
     "metadata": {},
     "output_type": "execute_result"
    }
   ],
   "source": [
    "role_detailed_context_ex[\"Response\"].head()"
   ]
  },
  {
   "cell_type": "code",
   "execution_count": 8,
   "id": "d692e002-056f-4e70-8ea5-f5b543af19b3",
   "metadata": {},
   "outputs": [
    {
     "data": {
      "text/plain": [
       "0                                             6, 7, 10\n",
       "1                                        6, 10, 13, 15\n",
       "2     6 Not comfortable with him taking the pill - ...\n",
       "3                                           2, 6, 7, 8\n",
       "4                             5, 8, 10, 15, 24, 27, 29\n",
       "Name: Response, dtype: object"
      ]
     },
     "execution_count": 8,
     "metadata": {},
     "output_type": "execute_result"
    }
   ],
   "source": [
    "story_prompt[\"Response\"].head()"
   ]
  },
  {
   "cell_type": "code",
   "execution_count": 9,
   "id": "57ffdec9-ffdd-48e8-8a59-e4d279db414b",
   "metadata": {},
   "outputs": [
    {
     "data": {
      "text/plain": [
       "0     6\\tNot comfortable with him taking the pill â...\n",
       "1     6\\tNot comfortable with him taking the pill â...\n",
       "2     6\\tNot comfortable with him taking the pill â...\n",
       "3     6\\tNot comfortable with him taking the pill â...\n",
       "4     4\\tNot comfortable with him taking the pill -...\n",
       "Name: Response, dtype: object"
      ]
     },
     "execution_count": 9,
     "metadata": {},
     "output_type": "execute_result"
    }
   ],
   "source": [
    "story_prompt_ex[\"Response\"].head()"
   ]
  },
  {
   "cell_type": "code",
   "execution_count": 10,
   "id": "f2cf20de-b37f-4274-b17a-ee33b694a9c9",
   "metadata": {},
   "outputs": [
    {
     "name": "stdout",
     "output_type": "stream",
     "text": [
      " 18, 19, 21, 22, 23, 24, 25, 28\n",
      "\n",
      "Text: Not comfortable with him taking the pill - no specific reason givenCodes: 2, 5, 6, 7, 8, 10, 11, 12, 13, 14, 15, 9\n"
     ]
    }
   ],
   "source": [
    "print(role_simple_context[\"Response\"][9])"
   ]
  },
  {
   "cell_type": "code",
   "execution_count": 11,
   "id": "14c21847-d645-4478-89b4-6aa72e056761",
   "metadata": {},
   "outputs": [
    {
     "name": "stdout",
     "output_type": "stream",
     "text": [
      " 18\tComfortable with him taking the pill - his choice; 19\tComfortable with him taking the pill - minor or no side effects; 21\tComfortable with him taking the pill - positive benefits; 22\tComfortable with him taking the pill - nothing wrong with using science or other means to improve ourselves; 23\tComfortable with him taking the pill - benefits outweight the risks; 24\tComfortable with him taking the pill - consent/informed decision; 27\tComfortable with him taking the pill - no harm to himself or others.\n"
     ]
    }
   ],
   "source": [
    "print(role_simple_context_ex[\"Response\"][9])"
   ]
  },
  {
   "cell_type": "code",
   "execution_count": 12,
   "id": "da6a0595-8963-47c6-aa89-ba05286935a6",
   "metadata": {},
   "outputs": [
    {
     "name": "stdout",
     "output_type": "stream",
     "text": [
      " 17, 18, 19, 20, 21, 22, 24, 27, 28\n"
     ]
    }
   ],
   "source": [
    "print(role_detailed_context[\"Response\"][9])"
   ]
  },
  {
   "cell_type": "code",
   "execution_count": 13,
   "id": "a311471d-12a1-4ca0-8c29-9658682970be",
   "metadata": {},
   "outputs": [
    {
     "name": "stdout",
     "output_type": "stream",
     "text": [
      " 18\tComfortable with him taking the pill - his choice; 21\tComfortable with him taking the pill - positive benefits; 22\tComfortable with him taking the pill - nothing wrong with using science or other means to improve ourselves; 24\tComfortable with him taking the pill - consent/informed decision.\n"
     ]
    }
   ],
   "source": [
    "print(role_detailed_context_ex[\"Response\"][9])"
   ]
  },
  {
   "cell_type": "code",
   "execution_count": 14,
   "id": "3c420bf0-0674-4b9b-bac7-e986d1fd8f5a",
   "metadata": {},
   "outputs": [
    {
     "name": "stdout",
     "output_type": "stream",
     "text": [
      " 17, 19, 22, 24, 26\n"
     ]
    }
   ],
   "source": [
    "print(story_prompt[\"Response\"][9])"
   ]
  },
  {
   "cell_type": "code",
   "execution_count": 15,
   "id": "05b022bb-e697-40a6-acd6-8ca20ff8bdd0",
   "metadata": {},
   "outputs": [
    {
     "name": "stdout",
     "output_type": "stream",
     "text": [
      " 18\tComfortable with him taking the pill - his choice; 21\tComfortable with him taking the pill - positive benefits; 24\tComfortable with him taking the pill - consent/informed decision\n"
     ]
    }
   ],
   "source": [
    "print(story_prompt_ex[\"Response\"][9])"
   ]
  },
  {
   "cell_type": "markdown",
   "id": "1221530d-496b-44d8-b9dd-a5c18257f60d",
   "metadata": {},
   "source": [
    "Overall, it appears the responses are a lot more standardised when an example is given. When the description is given along with the number, the description appears to usually match the number.\n",
    "\n",
    "I will *assume* that the number matches the description, and extract the numbers out to have an easy method of comparison.\n",
    "\n",
    "One may ask why the examples had descriptions, if I was just going to remove them in the responses. The descriptions were kept based on tests in the OpenAI Playground, where examples with only numbers appeared to lead to more arbitrary responses (strings of numbers, some of which matched the example, but which did not make sense in connecting to the rest of the prompt). This makes sense in context of previous findings that GPT models do better when asked to 'reason step-by-step' or otherwise explain their answers.\n",
    "\n",
    "#TODO may add another prompt with explicit 'explain your answer'. Add after setting up eval code."
   ]
  },
  {
   "cell_type": "markdown",
   "id": "e8752a43-8aa1-4900-a833-2374e42848de",
   "metadata": {},
   "source": [
    "### Standardising responses"
   ]
  },
  {
   "cell_type": "code",
   "execution_count": 35,
   "id": "9593b88a-20fb-44ca-9c83-31835cb64721",
   "metadata": {},
   "outputs": [],
   "source": [
    "dat_list = [\n",
    "    role_simple_context,\n",
    "    role_simple_context_ex,\n",
    "    role_detailed_context,\n",
    "    role_detailed_context_ex,\n",
    "    story_prompt,\n",
    "    story_prompt_ex]\n",
    "\n",
    "dat_names = [\n",
    "    \"role_simple_context\",\n",
    "    \"role_simple_context_ex\",\n",
    "    \"role_detailed_context\",\n",
    "    \"role_detailed_context_ex\",\n",
    "    \"story_prompt\",\n",
    "    \"story_prompt_ex\"]"
   ]
  },
  {
   "cell_type": "code",
   "execution_count": 17,
   "id": "72f58053-c9f4-43e4-b6bb-0232aef1b1bd",
   "metadata": {},
   "outputs": [],
   "source": [
    "def get_codes(data):\n",
    "    dat_coded = data.copy()\n",
    "    responses = dat_coded[\"Response\"]\n",
    "    dat_coded[\"Codes\"] = np.nan\n",
    "    for i in range(len(responses)):\n",
    "        comment = responses[i]\n",
    "        codes = re.findall(r'\\d+', comment)\n",
    "        dat_coded[\"Codes\"][i] = codes\n",
    "    return dat_coded"
   ]
  },
  {
   "cell_type": "markdown",
   "id": "21fbbf15-40a5-4a33-8a16-98f7a70f14e4",
   "metadata": {},
   "source": [
    "Note - some comments may have numbers that are not codes (e.g. 'text 1'). May want to consider this when optimising codes at the end.\n",
    "\n",
    "**One Hot Encoding**\n",
    "Now there is a list of numbers under the 'codes' column for each comment. For easier comparison, this will be transformed into one-hot-encoded columns like for the human-coded preprocessed data."
   ]
  },
  {
   "cell_type": "code",
   "execution_count": 18,
   "id": "934f78b5-cf9d-4dcb-848c-f38713036ce1",
   "metadata": {},
   "outputs": [],
   "source": [
    "def add_ohe_cols(dat):\n",
    "    dat_cols = dat.copy()\n",
    "    zeroes = [0]*len(dat_cols)\n",
    "    #print(len(zeroes))\n",
    "    dat_cols['Not Comfortable with (0)']= zeroes#[0]*len(dat_cols),\n",
    "    dat_cols['Not Comfortable with (1)']= zeroes\n",
    "    dat_cols['Not Comfortable with (2)']= zeroes\n",
    "    dat_cols['Not Comfortable with (3)']= zeroes\n",
    "    dat_cols['Not Comfortable with (4)']= zeroes\n",
    "    dat_cols['Not Comfortable with (5)']= zeroes\n",
    "    dat_cols['Not Comfortable with (6)']= zeroes\n",
    "    dat_cols['Not Comfortable with (7)']= zeroes\n",
    "    dat_cols['Not Comfortable with (8)']= zeroes\n",
    "    dat_cols['Not Comfortable with (9)']= zeroes\n",
    "    dat_cols['Not Comfortable with (10)']= zeroes\n",
    "    dat_cols['Not Comfortable with (11)']= zeroes\n",
    "    dat_cols['Not Comfortable with (12)']= zeroes\n",
    "    dat_cols['Not Comfortable with (13)']= zeroes\n",
    "    dat_cols['Not Comfortable with (14)']= zeroes\n",
    "    dat_cols['Comfortable with (0)']= zeroes\n",
    "    dat_cols['Comfortable with (1)']= zeroes\n",
    "    dat_cols['Comfortable with (2)']= zeroes\n",
    "    dat_cols['Comfortable with (3)']= zeroes\n",
    "    dat_cols['Comfortable with (4)']= zeroes\n",
    "    dat_cols['Comfortable with (5)']= zeroes\n",
    "    dat_cols['Comfortable with (6)']= zeroes\n",
    "    dat_cols['Comfortable with (7)']= zeroes\n",
    "    dat_cols['Comfortable with (8)']= zeroes\n",
    "    dat_cols['Comfortable with (9)']= zeroes\n",
    "    dat_cols['Comfortable with (10)']= zeroes\n",
    "    dat_cols['Comfortable with (11)']= zeroes\n",
    "    dat_cols['Comfortable with (12)']= zeroes\n",
    "    dat_cols['Other (binary)']= zeroes\n",
    "    return dat_cols\n",
    "\n",
    "\n",
    "    \n",
    "def one_hot_encode(dat):\n",
    "    dat_ohe = dat.copy()\n",
    "    for i in range(len(dat_ohe)):\n",
    "        #print(dat_ohe[\"Codes\"][i])\n",
    "        if '1' in dat_ohe[\"Codes\"][i]:\n",
    "            dat_ohe[\"Not Comfortable with (0)\"][i] = 1\n",
    "        if '2' in dat_ohe[\"Codes\"][i]:\n",
    "            dat_ohe[\"Not Comfortable with (1)\"][i] = 1\n",
    "        if '3' in dat_ohe[\"Codes\"][i]:\n",
    "            dat_ohe[\"Not Comfortable with (2)\"][i] = 1\n",
    "        if '4' in dat_ohe[\"Codes\"][i]:\n",
    "            dat_ohe[\"Not Comfortable with (3)\"][i] = 1\n",
    "        if '5' in dat_ohe[\"Codes\"][i]:\n",
    "            dat_ohe[\"Not Comfortable with (4)\"][i] = 1\n",
    "        if '6' in dat_ohe[\"Codes\"][i]:\n",
    "            dat_ohe[\"Not Comfortable with (5)\"][i] = 1\n",
    "        if '7' in dat_ohe[\"Codes\"][i]:\n",
    "            dat_ohe[\"Not Comfortable with (6)\"][i] = 1\n",
    "        if '8' in dat_ohe[\"Codes\"][i]:\n",
    "            dat_ohe[\"Not Comfortable with (7)\"][i] = 1\n",
    "        if '9' in dat_ohe[\"Codes\"][i]:\n",
    "            dat_ohe[\"Not Comfortable with (8)\"][i] = 1\n",
    "        if '10' in dat_ohe[\"Codes\"][i]:\n",
    "            dat_ohe[\"Not Comfortable with (9)\"][i] = 1\n",
    "        if '11' in dat_ohe[\"Codes\"][i]:\n",
    "            dat_ohe[\"Not Comfortable with (10)\"][i] = 1\n",
    "        if '12' in dat_ohe[\"Codes\"][i]:\n",
    "            dat_ohe[\"Not Comfortable with (11)\"][i] = 1\n",
    "        if '13' in dat_ohe[\"Codes\"][i]:\n",
    "            dat_ohe[\"Not Comfortable with (12)\"][i] = 1\n",
    "        if '14' in dat_ohe[\"Codes\"][i]:\n",
    "            dat_ohe[\"Not Comfortable with (13)\"][i] = 1\n",
    "        if '15' in dat_ohe[\"Codes\"][i]:\n",
    "            dat_ohe[\"Not Comfortable with (14)\"][i] = 1\n",
    "        if '16' in dat_ohe[\"Codes\"][i]:\n",
    "            dat_ohe[\"Comfortable with (0)\"][i] = 1\n",
    "        if '17' in dat_ohe[\"Codes\"][i]:\n",
    "            dat_ohe[\"Comfortable with (1)\"][i] = 1\n",
    "        if '18' in dat_ohe[\"Codes\"][i]:\n",
    "            dat_ohe[\"Comfortable with (2)\"][i] = 1\n",
    "        if '19' in dat_ohe[\"Codes\"][i]:\n",
    "            dat_ohe[\"Comfortable with (3)\"][i] = 1\n",
    "        if '20' in dat_ohe[\"Codes\"][i]:\n",
    "            dat_ohe[\"Comfortable with (4)\"][i] = 1\n",
    "        if '21' in dat_ohe[\"Codes\"][i]:\n",
    "            dat_ohe[\"Comfortable with (5)\"][i] = 1\n",
    "        if '22' in dat_ohe[\"Codes\"][i]:\n",
    "            dat_ohe[\"Comfortable with (6)\"][i] = 1\n",
    "        if '23' in dat_ohe[\"Codes\"][i]:\n",
    "            dat_ohe[\"Comfortable with (7)\"][i] = 1\n",
    "        if '24' in dat_ohe[\"Codes\"][i]:\n",
    "            dat_ohe[\"Comfortable with (8)\"][i] = 1\n",
    "        if '25' in dat_ohe[\"Codes\"][i]:\n",
    "            dat_ohe[\"Comfortable with (9)\"][i] = 1\n",
    "        if '26' in dat_ohe[\"Codes\"][i]:\n",
    "            dat_ohe[\"Comfortable with (10)\"][i] = 1\n",
    "        if '27' in dat_ohe[\"Codes\"][i]:\n",
    "            dat_ohe[\"Comfortable with (11)\"][i] = 1\n",
    "        if '28' in dat_ohe[\"Codes\"][i]:\n",
    "            dat_ohe[\"Comfortable with (12)\"][i] = 1\n",
    "        if '29' in dat_ohe[\"Codes\"][i]:\n",
    "            dat_ohe[\"Other (binary)\"][i] = 1\n",
    "    return dat_ohe\n",
    "            "
   ]
  },
  {
   "cell_type": "markdown",
   "id": "aff3570d-df4e-4e40-ad7f-e8245a6c6d49",
   "metadata": {},
   "source": [
    "for d in dat_list:\n",
    "    with warnings.catch_warnings():\n",
    "        warnings.simplefilter('ignore')\n",
    "        one_hot_encode(add_ohe_cols(get_codes(d)))"
   ]
  },
  {
   "cell_type": "code",
   "execution_count": 37,
   "id": "8a94fa4a-efce-455d-8776-d6918fc7f540",
   "metadata": {},
   "outputs": [],
   "source": [
    "#WARNING ignored: A value is trying to be set on a copy of a slice from a DataFrame\n",
    "\n",
    "processed = {}\n",
    "for i in range(len(dat_list)):\n",
    "    with warnings.catch_warnings():\n",
    "        warnings.simplefilter('ignore')\n",
    "        processed[dat_names[i]] = one_hot_encode(add_ohe_cols(get_codes(dat_list[i])))\n"
   ]
  },
  {
   "cell_type": "markdown",
   "id": "e1bd43fd-44b0-4a45-8264-410eec0d673e",
   "metadata": {},
   "source": [
    "## Evaluation"
   ]
  },
  {
   "cell_type": "markdown",
   "id": "1080d783-4b61-4913-b237-e109354d2841",
   "metadata": {},
   "source": [
    "Below, I define functions to produce confusion matrices, and calculate accuracy, recall and precision, for each set of model responses. These are calculated in by comparing to a set of human-coded responses, so each of these metrices only compares how similar the model's responses are to a human's. Even if they are low, it is possible that the model's response is justifiable, as coding for qualitative analysis can differ widely between different (human) coders and requires subjective judgement.\n",
    "\n",
    "Accuracy considers how many of the model's responses match the human's. Recall considers, among all the codes the human chose for a comment, how many did the model also choose? Precision considers, among all the codes the model chose for a comment, how many did the human also choose?\n",
    "\n",
    "If the model skews towards choosing a lot of codes, then recall will be high, but precision will be low. A good model should therefore have relatively high precision as well as accuracy and recall."
   ]
  },
  {
   "cell_type": "code",
   "execution_count": 100,
   "id": "037a4747-77c5-40c1-a683-3bed41b5d957",
   "metadata": {},
   "outputs": [],
   "source": [
    "#Get true positive/negative and false positive/negative comparing the first to the second dataset\n",
    "def get_metrics(model_dat, human_dat):\n",
    "    true_positives = 0\n",
    "    true_negatives = 0\n",
    "    false_positives = 0\n",
    "    false_negatives = 0\n",
    "    \n",
    "    code_columns=[\n",
    "    'Not Comfortable with (0)',\n",
    "    'Not Comfortable with (1)',\n",
    "    'Not Comfortable with (2)',\n",
    "    'Not Comfortable with (3)',\n",
    "    'Not Comfortable with (4)',\n",
    "    'Not Comfortable with (5)',\n",
    "    'Not Comfortable with (6)',\n",
    "    'Not Comfortable with (7)',\n",
    "    'Not Comfortable with (8)',\n",
    "    'Not Comfortable with (9)',\n",
    "    'Not Comfortable with (10)',\n",
    "    'Not Comfortable with (11)',\n",
    "    'Not Comfortable with (12)',\n",
    "    'Not Comfortable with (13)',\n",
    "    'Not Comfortable with (14)',\n",
    "    'Comfortable with (0)',\n",
    "    'Comfortable with (1)',\n",
    "    'Comfortable with (2)',\n",
    "    'Comfortable with (3)',\n",
    "    'Comfortable with (4)',\n",
    "    'Comfortable with (5)',\n",
    "    'Comfortable with (6)',\n",
    "    'Comfortable with (7)',\n",
    "    'Comfortable with (8)',\n",
    "    'Comfortable with (9)',\n",
    "    'Comfortable with (10)',\n",
    "    'Comfortable with (11)',\n",
    "    'Comfortable with (12)',\n",
    "    'Other (binary)']\n",
    "\n",
    "    for i in range(len(model_dat)):\n",
    "        for c in code_columns:\n",
    "            if model_dat[c][i] == human_dat[c][i]:\n",
    "                if model_dat[c][i] == 1:\n",
    "                    true_positives += 1\n",
    "                elif model_dat[c][i] == 0:\n",
    "                    true_negatives += 1\n",
    "            elif model_dat[c][i] != human_dat[c][i]:\n",
    "                if model_dat[c][i] == 1:\n",
    "                    false_positives += 1\n",
    "                elif model_dat[c][i] == 0:\n",
    "                    false_negatives += 1\n",
    "    metrics = {\n",
    "        \"true_positives\":true_positives,\n",
    "        \"true_negatives\":true_negatives,\n",
    "        \"false_positives\":false_positives,\n",
    "        \"false_negatives\":false_negatives\n",
    "    }\n",
    "    \n",
    "    return metrics\n",
    "    "
   ]
  },
  {
   "cell_type": "code",
   "execution_count": 110,
   "id": "fa04bd1b-e17f-4532-ab7a-0602ddecf857",
   "metadata": {},
   "outputs": [],
   "source": [
    "#function to calculate accuracy by calling the above\n",
    "#returns nothing\n",
    "def get_accuracy(model_dat, human_dat):\n",
    "    mets = get_metrics(model_dat, human_dat)\n",
    "    print(\"Accuracy:\", \n",
    "      (mets[\"true_positives\"]+mets[\"true_negatives\"])/\n",
    "          (mets[\"true_positives\"]+mets[\"true_negatives\"]+mets[\"false_positives\"]+mets[\"false_negatives\"])\n",
    "     )\n",
    "\n",
    "#function to calculate recall\n",
    "#'Among all positive examples, how many did you identify?'\n",
    "#returns nothing\n",
    "def get_recall(model_dat, human_dat):\n",
    "    mets = get_metrics(model_dat, human_dat)\n",
    "    print(\"Recall:\", \n",
    "      (mets[\"true_positives\"])/\n",
    "          (mets[\"true_positives\"]+mets[\"false_negatives\"])\n",
    "     )\n",
    "    \n",
    "#function to calculate precision\n",
    "#'Among the positive examples you identified, how many were actually positive?'\n",
    "#returns nothing\n",
    "def get_precision(model_dat, human_dat):\n",
    "    mets = get_metrics(model_dat, human_dat)\n",
    "    print(\"Precision:\", \n",
    "      (mets[\"true_positives\"])/\n",
    "          (mets[\"true_positives\"]+mets[\"false_positives\"])\n",
    "     )\n",
    "    \n",
    "#function to produce dataframe version of metrics above\n",
    "#returns the df\n",
    "def get_df_metrics(model_dat, human_dat):\n",
    "    mets = get_metrics(model_dat, human_dat)\n",
    "    mets_df = pd.DataFrame(\n",
    "        data = [[mets[\"true_negatives\"], mets[\"false_positives\"]],\n",
    "                [mets[\"false_negatives\"], mets[\"true_positives\"]]],\n",
    "        index = [\"Actual False\", \"Actual True\"],\n",
    "        columns = [\"Predicted False\", \"Predicted True\"])\n",
    "    #print(mets_df)\n",
    "    return mets_df\n",
    "\n",
    "#function to plot the confusion matrix as a heatmap, calls above functions\n",
    "#returns nothing\n",
    "def conf_matrix_heatmap(model_dat, human_dat):\n",
    "    mets_df = get_df_metrics(model_dat, human_dat)\n",
    "    sns.heatmap(mets_df, annot=True)"
   ]
  },
  {
   "cell_type": "code",
   "execution_count": 108,
   "id": "e705bf62-a324-4b44-b629-e50aea23bd87",
   "metadata": {},
   "outputs": [],
   "source": []
  },
  {
   "cell_type": "code",
   "execution_count": 102,
   "id": "60096277-2e48-4bf1-8047-9b1e33a42251",
   "metadata": {},
   "outputs": [],
   "source": [
    "#Read human data to compare to:\n",
    "human_data = pd.read_csv(\"../data/data_preprocessed.csv\")"
   ]
  },
  {
   "cell_type": "code",
   "execution_count": 113,
   "id": "23c610ae-0406-4e02-a832-c823d89b93e2",
   "metadata": {},
   "outputs": [
    {
     "data": {
      "text/plain": [
       "dict_keys(['role_simple_context', 'role_simple_context_ex', 'role_detailed_context', 'role_detailed_context_ex', 'story_prompt', 'story_prompt_ex'])"
      ]
     },
     "execution_count": 113,
     "metadata": {},
     "output_type": "execute_result"
    }
   ],
   "source": [
    "#All the model response datasets:\n",
    "processed.keys()"
   ]
  },
  {
   "cell_type": "code",
   "execution_count": 119,
   "id": "4f7d7198-54b4-4939-b13e-ca94325f8e9d",
   "metadata": {},
   "outputs": [
    {
     "name": "stdout",
     "output_type": "stream",
     "text": [
      "Metrics for  role_simple_context\n",
      "Accuracy: 0.6241379310344828\n",
      "Recall: 0.7049180327868853\n",
      "Precision: 0.12215909090909091\n"
     ]
    },
    {
     "data": {
      "image/png": "[encoded data removed]",
      "text/plain": [
       "<Figure size 640x480 with 2 Axes>"
      ]
     },
     "metadata": {},
     "output_type": "display_data"
    },
    {
     "name": "stdout",
     "output_type": "stream",
     "text": [
      "Metrics for  role_simple_context_ex\n",
      "Accuracy: 0.828735632183908\n",
      "Recall: 0.6229508196721312\n",
      "Precision: 0.23170731707317074\n"
     ]
    },
    {
     "data": {
      "image/png": "[encoded data removed]",
      "text/plain": [
       "<Figure size 640x480 with 2 Axes>"
      ]
     },
     "metadata": {},
     "output_type": "display_data"
    },
    {
     "name": "stdout",
     "output_type": "stream",
     "text": [
      "Metrics for  role_detailed_context\n",
      "Accuracy: 0.8310344827586207\n",
      "Recall: 0.5737704918032787\n",
      "Precision: 0.22435897435897437\n"
     ]
    },
    {
     "data": {
      "image/png": "[encoded data removed]",
      "text/plain": [
       "<Figure size 640x480 with 2 Axes>"
      ]
     },
     "metadata": {},
     "output_type": "display_data"
    },
    {
     "name": "stdout",
     "output_type": "stream",
     "text": [
      "Metrics for  role_detailed_context_ex\n",
      "Accuracy: 0.8896551724137931\n",
      "Recall: 0.6721311475409836\n",
      "Precision: 0.3504273504273504\n"
     ]
    },
    {
     "data": {
      "image/png": "[encoded data removed]",
      "text/plain": [
       "<Figure size 640x480 with 2 Axes>"
      ]
     },
     "metadata": {},
     "output_type": "display_data"
    },
    {
     "name": "stdout",
     "output_type": "stream",
     "text": [
      "Metrics for  story_prompt\n",
      "Accuracy: 0.867816091954023\n",
      "Recall: 0.6229508196721312\n",
      "Precision: 0.2923076923076923\n"
     ]
    },
    {
     "data": {
      "image/png": "[encoded data removed]",
      "text/plain": [
       "<Figure size 640x480 with 2 Axes>"
      ]
     },
     "metadata": {},
     "output_type": "display_data"
    },
    {
     "name": "stdout",
     "output_type": "stream",
     "text": [
      "Metrics for  story_prompt_ex\n",
      "Accuracy: 0.9241379310344827\n",
      "Recall: 0.6721311475409836\n",
      "Precision: 0.47126436781609193\n"
     ]
    },
    {
     "data": {
      "image/png": "[encoded data removed]",
      "text/plain": [
       "<Figure size 640x480 with 2 Axes>"
      ]
     },
     "metadata": {},
     "output_type": "display_data"
    }
   ],
   "source": [
    "for k in processed.keys():\n",
    "    print(\"Metrics for \", k)\n",
    "    get_accuracy(processed[k], human_data)\n",
    "    get_recall(processed[k], human_data)\n",
    "    get_precision(processed[k], human_data)\n",
    "    conf_matrix_heatmap(processed[k], human_data)\n",
    "    plt.pyplot.show()"
   ]
  },
  {
   "cell_type": "code",
   "execution_count": null,
   "id": "7004d778-bb16-47a1-b3b8-577d78c04e78",
   "metadata": {},
   "outputs": [],
   "source": []
  },
  {
   "cell_type": "code",
   "execution_count": null,
   "id": "df93b52b-b5a4-4d49-aa1d-ab36bd517ec0",
   "metadata": {},
   "outputs": [],
   "source": []
  },
  {
   "cell_type": "markdown",
   "id": "a0aa156d-9da0-4cfa-9767-13ff930e711a",
   "metadata": {},
   "source": []
  }
 ],
 "metadata": {
  "kernelspec": {
   "display_name": "Python 3 (ipykernel)",
   "language": "python",
   "name": "python3"
  },
  "language_info": {
   "codemirror_mode": {
    "name": "ipython",
    "version": 3
   },
   "file_extension": ".py",
   "mimetype": "text/x-python",
   "name": "python",
   "nbconvert_exporter": "python",
   "pygments_lexer": "ipython3",
   "version": "3.11.2"
  }
 },
 "nbformat": 4,
 "nbformat_minor": 5
}
