{
 "cells": [
  {
   "cell_type": "markdown",
   "id": "000536d9-ebad-411d-95dc-36354c9eb7e1",
   "metadata": {},
   "source": [
    "## Trying out OpenAI"
   ]
  },
  {
   "cell_type": "code",
   "execution_count": null,
   "id": "b2bc82b0-bb83-4368-bdb4-a3ddf6444369",
   "metadata": {
    "tags": []
   },
   "outputs": [],
   "source": [
    "import openai"
   ]
  },
  {
   "cell_type": "code",
   "execution_count": null,
   "id": "0257564c-ae5c-4386-a600-9ddc42f568a3",
   "metadata": {
    "tags": []
   },
   "outputs": [],
   "source": [
    "openai.api_key = open(\"openai_key.txt\").read()"
   ]
  },
  {
   "cell_type": "code",
   "execution_count": null,
   "id": "39d29277-df23-4a55-82e9-e250fd42ee46",
   "metadata": {
    "tags": []
   },
   "outputs": [],
   "source": [
    "prompt = \"Say this is a test\""
   ]
  },
  {
   "cell_type": "code",
   "execution_count": null,
   "id": "6722d244-9228-4d7c-82ea-85f79da5f34b",
   "metadata": {
    "tags": []
   },
   "outputs": [],
   "source": [
    "response = openai.Completion.create(\n",
    "    engine=\"text-ada-001\",\n",
    "    prompt=prompt,\n",
    "    max_tokens=6\n",
    ")\n",
    "print(response)"
   ]
  },
  {
   "cell_type": "code",
   "execution_count": null,
   "id": "a19db228-2ed3-471a-9dbe-df39e9c5de44",
   "metadata": {},
   "outputs": [],
   "source": []
  }
 ],
 "metadata": {
  "kernelspec": {
   "display_name": "Python 3 (ipykernel)",
   "language": "python",
   "name": "python3"
  },
  "language_info": {
   "codemirror_mode": {
    "name": "ipython",
    "version": 3
   },
   "file_extension": ".py",
   "mimetype": "text/x-python",
   "name": "python",
   "nbconvert_exporter": "python",
   "pygments_lexer": "ipython3",
   "version": "3.9.16"
  }
 },
 "nbformat": 4,
 "nbformat_minor": 5
}
