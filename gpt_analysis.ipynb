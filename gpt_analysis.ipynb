{
 "cells": [
  {
   "cell_type": "markdown",
   "id": "e6ba3f9a-6fd9-47ed-b92f-568fbf05cf70",
   "metadata": {},
   "source": [
    "# Qualitative Analysis with GPT-3"
   ]
  },
  {
   "cell_type": "code",
   "execution_count": 2,
   "id": "70ac79cc-dce8-4ada-90d8-8d59451fd5b5",
   "metadata": {
    "tags": []
   },
   "outputs": [],
   "source": [
    "import openai\n",
    "import pandas as pd"
   ]
  },
  {
   "cell_type": "code",
   "execution_count": 9,
   "id": "56619663-721e-4cbd-b2dd-c7cfd49dac63",
   "metadata": {
    "tags": []
   },
   "outputs": [
    {
     "name": "stderr",
     "output_type": "stream",
     "text": [
      "C:\\Users\\Olsen L\\.conda\\envs\\cogs402\\lib\\site-packages\\openpyxl\\worksheet\\_reader.py:329: UserWarning: Unknown extension is not supported and will be removed\n",
      "  warn(msg)\n"
     ]
    }
   ],
   "source": [
    "# Read API key from file:\n",
    "#openai.api_key = open(\"openai_key.txt\").read()\n",
    "openai.api_key = open(\"lief_openai_key.txt\").read()\n",
    "# Read data from file:\n",
    "all_dat = pd.read_excel(\"./data/Changestoself_Analysis_Comments_2_R_2013_12_05.xlsx\", sheet_name = \"Changestoself_Analysis_Comments\")\n",
    "# Take out comment column for analysis:\n",
    "# ASSUMING - demographic data etc. is not being used for coding\n",
    "comments = all_dat[\"Comment\"]\n",
    "assert comments.isna().sum() == 0, \"There are missing values in comments\"\n",
    "# note - will need to preprocess coding columns for scoring/comparison "
   ]
  },
  {
   "cell_type": "code",
   "execution_count": 16,
   "id": "18f6727c-96ab-4369-b7c2-8d5e06219fcd",
   "metadata": {
    "tags": []
   },
   "outputs": [
    {
     "data": {
      "text/plain": [
       "0     He is already sociable he doesn't need the pill.\n",
       "1    John didn't have a problem - he was just fine ...\n",
       "2    If John was quite comfortable with how social ...\n",
       "3    It seems like he's a pretty well-adjusted guy ...\n",
       "4    John is healthy and is not suffering from any ...\n",
       "Name: Comment, dtype: object"
      ]
     },
     "execution_count": 16,
     "metadata": {},
     "output_type": "execute_result"
    }
   ],
   "source": [
    "#View sample of comments:\n",
    "comments.head()"
   ]
  },
  {
   "cell_type": "markdown",
   "id": "1c44ba21-73d7-481e-8501-c0ad9281a5c8",
   "metadata": {},
   "source": [
    "### Analysis 1 - prompting the model to apply code"
   ]
  },
  {
   "cell_type": "code",
   "execution_count": null,
   "id": "e4df6aed-348a-48f9-b838-6b2177d80644",
   "metadata": {},
   "outputs": [],
   "source": [
    "#TODO add"
   ]
  },
  {
   "cell_type": "markdown",
   "id": "7396a6d0-56af-4a5f-b829-873507fecfaa",
   "metadata": {},
   "source": [
    "### Analysis 2 - using embeddings to do zero-shot classification for each code\n",
    "\n",
    " We can consider this problem as classification, by going through each code, \n",
    " with the model either classifying a comment into the code (\"positive\")\n",
    " or not (\"negative\" for that code). \n",
    " We can use zero-shot classification for each code as described here:\n",
    " https://github.com/openai/openai-cookbook/blob/main/examples/Zero-shot_classification_with_embeddings.ipynb\n",
    "\n",
    " To do this, we need a description of each class. The coding sheet gives\n",
    " a description (name/label) for each code, but not for its 'opposite'. \n",
    " This could be created manually, or we could generate it using GPT. Here, we \n",
    " will try generating it."
   ]
  },
  {
   "cell_type": "code",
   "execution_count": 35,
   "id": "82823ab6-cb91-48e3-85b9-0bf7e2ec989f",
   "metadata": {
    "tags": []
   },
   "outputs": [],
   "source": [
    "codes = pd.read_excel(\"./data/Changestoself_Analysis_Comments_2_R_2013_12_05.xlsx\", sheet_name = \"gpt_codes\")[\"Descriptions\"]"
   ]
  },
  {
   "cell_type": "code",
   "execution_count": 36,
   "id": "1be39fd3-0feb-479e-a09d-8e2983034a51",
   "metadata": {
    "tags": []
   },
   "outputs": [
    {
     "data": {
      "text/plain": [
       "0        Not comfortable with, no specific reason given\n",
       "1     Not comfortable with, changing something funda...\n",
       "2              Not comfortable with, changing the brain\n",
       "3                     Not comfortable with, side effect\n",
       "4     Not comfortable with, general concerns about p...\n",
       "5     Not comfortable with, No need, nor medically n...\n",
       "6     Not comfortable with, naturalistic moral concerns\n",
       "7     Not comfortable with, risks outweight the bene...\n",
       "8           Not comfortable with, dependence, addiction\n",
       "9       Not comfortable with, social pressure to fit in\n",
       "10            Not comfortable with, legal or prescribed\n",
       "11      Not comfortable with, god or religious concerns\n",
       "12    Not comfortable with, other: fairness, social ...\n",
       "13          Not comfortable with, status quo : new pill\n",
       "14    Not comfortable with, permanent changes (brain...\n",
       "15                 Comfortable with, no specific reason\n",
       "16    Comfortable with, not changing anything fundam...\n",
       "17                         Comfortable with, his choice\n",
       "18           Comfortable with, minor or no side effects\n",
       "19    Comfortable with, comfortable with pills and m...\n",
       "20                  Comfortable with, positive benefits\n",
       "21    Comfortable with, nothing wrong with using sci...\n",
       "22       Comfortable with, benefits outweight the risks\n",
       "23          Comfortable with, consent/informed decision\n",
       "24             Comfortable with, no pressure to take it\n",
       "25                Comfortable with, legal or prescribed\n",
       "26       Comfortable with, no harm to himself or others\n",
       "27              Comfortable with, other specific reason\n",
       "28        Other, offered a vague or irrelevant response\n",
       "29                           Other, would take the pill\n",
       "30                       Other, would not take the pill\n",
       "Name: Descriptions, dtype: object"
      ]
     },
     "execution_count": 36,
     "metadata": {},
     "output_type": "execute_result"
    }
   ],
   "source": [
    "codes"
   ]
  },
  {
   "cell_type": "markdown",
   "id": "19245074-9828-4a0b-9dc5-c7277b8ed52b",
   "metadata": {},
   "source": [
    "### Other approaches \n",
    "(to consider)"
   ]
  },
  {
   "cell_type": "code",
   "execution_count": null,
   "id": "e717385f-a963-4ebd-a799-d064cf0ebd65",
   "metadata": {},
   "outputs": [],
   "source": [
    "#Consider - use case where training/fine-tuning may be feasible?"
   ]
  },
  {
   "cell_type": "markdown",
   "id": "6e31ee2f-d9d2-4d02-810c-15367e9987c7",
   "metadata": {},
   "source": [
    "### Comparison of results\n",
    "Compare results of different approaches with each other, and with human results."
   ]
  },
  {
   "cell_type": "code",
   "execution_count": null,
   "id": "87a54727-0c48-4eaa-99ee-a32e6d2d86ed",
   "metadata": {},
   "outputs": [],
   "source": []
  }
 ],
 "metadata": {
  "kernelspec": {
   "display_name": "Python 3 (ipykernel)",
   "language": "python",
   "name": "python3"
  },
  "language_info": {
   "codemirror_mode": {
    "name": "ipython",
    "version": 3
   },
   "file_extension": ".py",
   "mimetype": "text/x-python",
   "name": "python",
   "nbconvert_exporter": "python",
   "pygments_lexer": "ipython3",
   "version": "3.9.16"
  }
 },
 "nbformat": 4,
 "nbformat_minor": 5
}
